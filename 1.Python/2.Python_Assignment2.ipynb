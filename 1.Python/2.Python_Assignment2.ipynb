{
 "cells": [
  {
   "cell_type": "code",
   "execution_count": 2,
   "metadata": {},
   "outputs": [
    {
     "name": "stdout",
     "output_type": "stream",
     "text": [
      "55\n"
     ]
    }
   ],
   "source": [
    "'''Ex:1.1\n",
    "Write a Python Program to implement your own myreduce() function which works exactly like\n",
    "Python's built-in function reduce()\n",
    "'''\n",
    "# Reduce will produce a single result\n",
    "def myreduce(funcsum, lst):\n",
    "    result = 0\n",
    "    for item in lst:\n",
    "        result = funcsum(result, item)\n",
    "    return result\n",
    "\n",
    "def funcsum(x,y): \n",
    "    return x + y\n",
    "\n",
    "num = [1, 2, 3, 4,5,6,7,8,9,10]\n",
    "total=myreduce(funcsum,num)\n",
    "\n",
    "print(total)"
   ]
  },
  {
   "cell_type": "code",
   "execution_count": 3,
   "metadata": {},
   "outputs": [
    {
     "name": "stdout",
     "output_type": "stream",
     "text": [
      "[6, 7, 8, 9, 10]\n"
     ]
    }
   ],
   "source": [
    "'''Ex:1.2\n",
    "Write a Python program to implement your own myfilter() function which works exactly like\n",
    "Python's built-in function filter()\n",
    "'''\n",
    "# filter will produce a iteratable filtered result based on the condition specified\n",
    "def myfilter(funcfltr, lst):\n",
    "    result = []\n",
    "    for item in lst:\n",
    "        result = funcfltr(result, item)\n",
    "\n",
    "    return result\n",
    "\n",
    "def funcfltr(x,y): \n",
    "    if y>5 and y<=10:\n",
    "        x.append(y)\n",
    "    return x\n",
    "\n",
    "num = [1,2,3,4,5,6,7,8,9,10]\n",
    "fltrnum=myfilter(funcfltr,num)\n",
    "\n",
    "print(fltrnum)"
   ]
  },
  {
   "cell_type": "code",
   "execution_count": 1,
   "metadata": {},
   "outputs": [
    {
     "name": "stdout",
     "output_type": "stream",
     "text": [
      "['A', 'C', 'A', 'D', 'G', 'I', 'L', 'D']\n"
     ]
    }
   ],
   "source": [
    "'''Ex: 2\n",
    "Implement List comprehensions to produce the following lists.\n",
    "Write List comprehensions to produce the following Lists\n",
    "\n",
    "1. ['A', 'C', 'A', 'D', 'G', 'I', ’L’, ‘ D’]\n",
    "'''\n",
    "# I want 'n' for each 'n' in nums\n",
    "\n",
    "wrd='ACADGILD'\n",
    "\n",
    "alphlst=[c for c in wrd]\n",
    "print(alphlst)"
   ]
  },
  {
   "cell_type": "code",
   "execution_count": 2,
   "metadata": {},
   "outputs": [
    {
     "name": "stdout",
     "output_type": "stream",
     "text": [
      "['x', 'xx', 'xxx', 'xxxx', 'y', 'yy', 'yyy', 'yyyy', 'z', 'zz', 'zzz', 'zzzz']\n"
     ]
    }
   ],
   "source": [
    "'''\n",
    "2. ['x', 'xx', 'xxx', 'xxxx', 'y', 'yy', 'yyy', 'yyyy', 'z', 'zz', 'zzz', 'zzzz']\n",
    "'''\n",
    "lst = ['x','y','z']\n",
    "result = [item*num for item in lst for num in range(1,5)]\n",
    "print(result)"
   ]
  },
  {
   "cell_type": "code",
   "execution_count": 3,
   "metadata": {},
   "outputs": [
    {
     "name": "stdout",
     "output_type": "stream",
     "text": [
      "['x', 'y', 'z', 'xx', 'yy', 'zz', 'xxx', 'yyy', 'zzz', 'xxxx', 'yyyy', 'zzzz']\n"
     ]
    }
   ],
   "source": [
    "'''\n",
    "3. ['x', 'y', 'z', 'xx', 'yy', 'zz', 'xxx', 'yyy', 'zzz', 'xxxx', 'yyyy', 'zzzz']\n",
    "\n",
    "'''\n",
    "result = [num*item for num in range(1,5) for item in lst]\n",
    "print(result)"
   ]
  },
  {
   "cell_type": "code",
   "execution_count": 11,
   "metadata": {},
   "outputs": [
    {
     "name": "stdout",
     "output_type": "stream",
     "text": [
      "[[2], [3], [4], [3], [4], [5], [4], [5], [6]]\n"
     ]
    }
   ],
   "source": [
    "'''\n",
    "4. [[2], [3], [4], [3], [4], [5], [4], [5], [6]]\n",
    "'''\n",
    "nums=[1,2,3]\n",
    "result=[[n+num] for num in nums for n in range(1,4)]\n",
    "print(result)"
   ]
  },
  {
   "cell_type": "code",
   "execution_count": 4,
   "metadata": {},
   "outputs": [
    {
     "name": "stdout",
     "output_type": "stream",
     "text": [
      "[[2, 3, 4, 5], [3, 4, 5, 6], [4, 5, 6, 7], [5, 6, 7, 8]]\n"
     ]
    }
   ],
   "source": [
    "'''\n",
    "5. [[2, 3, 4, 5], [3, 4, 5, 6], [4, 5, 6, 7], [5, 6, 7, 8]]\n",
    "'''\n",
    "nums=[1,2,3,4]\n",
    "result = [[num+n for num in nums] for n in range(1,5)]\n",
    "print(result)"
   ]
  },
  {
   "cell_type": "code",
   "execution_count": 5,
   "metadata": {},
   "outputs": [
    {
     "name": "stdout",
     "output_type": "stream",
     "text": [
      "[(1, 1), (2, 1), (3, 1), (1, 2), (2, 2), (3, 2), (1, 3), (2, 3), (3, 3)]\n"
     ]
    }
   ],
   "source": [
    "'''\n",
    "6. [(1, 1), (2, 1), (3, 1), (1, 2), (2, 2), (3, 2), (1, 3), (2, 3), (3, 3)]\n",
    "'''\n",
    "nums = (1,2,3)\n",
    "result = [ (num,item) for item in nums for num in range(1,4)]\n",
    "print(result)"
   ]
  },
  {
   "cell_type": "code",
   "execution_count": 6,
   "metadata": {},
   "outputs": [
    {
     "name": "stdout",
     "output_type": "stream",
     "text": [
      "The longest word: 'Bash/Shell/PowerShell' \n",
      "length of the word is: 21\n"
     ]
    }
   ],
   "source": [
    "'''Ex: 3:\n",
    "  Implement a function longestWord() that takes a list of words and returns the longest one.\n",
    "'''\n",
    "\n",
    "from operator import itemgetter \n",
    "\n",
    "lstwords=[\"Bash/Shell/PowerShell\",\"C#\",\"HTML/CSS\",\"JavaScript\",\"Python\",\n",
    "           \"Ruby\",\"Rust\",\"SQL\",\"TypeScript\",\"WebAssembly\"]\n",
    "\n",
    "result=[(len(w),w) for w in lstwords]\n",
    "\n",
    "word=max(result, key = itemgetter(0))[1]\n",
    "length = max(result, key = itemgetter(0))[0]\n",
    "\n",
    "print(\"The longest word: '{}' \\nlength of the word is: {}\".format(word,length))\n",
    "              "
   ]
  },
  {
   "cell_type": "code",
   "execution_count": 8,
   "metadata": {},
   "outputs": [
    {
     "name": "stdout",
     "output_type": "stream",
     "text": [
      "Area of the triange is: 2.9\n"
     ]
    }
   ],
   "source": [
    "'''Task 2:\n",
    "1.1\n",
    "Write a Python Program(with class concepts) to find the area of the triangle using the below\n",
    "formula.\n",
    "area = (s*(s-a)*(s-b)*(s-c)) ** 0.5\n",
    "\n",
    "Function to take the length of the sides of triangle from user should be defined in the parent\n",
    "class and function to calculate the area should be defined in subclass.\n",
    "'''\n",
    "\n",
    "class Shape():\n",
    "    def __init__(self,a,b,c):\n",
    "        self.a=a\n",
    "        self.b=b\n",
    "        self.c=c\n",
    "\n",
    "\n",
    "class Triangle(Shape):\n",
    "    def __init__(self,a,b,c):\n",
    "        super().__init__(a,b,c)\n",
    "\n",
    "    def area(self):\n",
    "    # calculate the semi-perimeter  \n",
    "        s = (self.a+self.b+self.c)/2\n",
    "        \n",
    "        #return the area of triangle using formula (s*(s-a)*(s-b)*(s-c)) ** 0.5\n",
    "        return (s*(s-self.a)*(s-self.b)*(s-self.c)) ** 0.5\n",
    "\n",
    "\n",
    "triangle=Triangle(2,3,4)\n",
    "print('Area of the triange is: {}'.format(round(triangle.area(),2)))"
   ]
  },
  {
   "cell_type": "code",
   "execution_count": 9,
   "metadata": {},
   "outputs": [
    {
     "name": "stdout",
     "output_type": "stream",
     "text": [
      "List of words that are longer than 7 characters:\n",
      "['Bash/Shell/PowerShell', 'HTML/CSS', 'JavaScript', 'TypeScript', 'WebAssembly'] \n"
     ]
    }
   ],
   "source": [
    "''' Ex: Task 2: -->1.2\n",
    "Write a function filter_long_words() that takes a list of words and an integer n and returns \n",
    "the list of words that are longer than n\n",
    "'''\n",
    "\n",
    "def filter_long_words(lst_of_words,num):\n",
    "    return [w for w in lst_of_words if len(w)>num]\n",
    "    \n",
    "lstwords=[\"Bash/Shell/PowerShell\",\"C#\",\"HTML/CSS\",\"JavaScript\",\"Python\",\n",
    "           \"Ruby\",\"Rust\",\"SQL\",\"TypeScript\",\"WebAssembly\"]\n",
    "n=7\n",
    "print('List of words that are longer than {} characters:\\n{} '.format(n,filter_long_words(lstwords,n)))\n"
   ]
  },
  {
   "cell_type": "code",
   "execution_count": 10,
   "metadata": {},
   "outputs": [
    {
     "name": "stdout",
     "output_type": "stream",
     "text": [
      "List of words:\n",
      "\t['Bash/Shell/PowerShell', 'C#', 'HTML/CSS', 'JavaScript', 'Python', 'Ruby', 'Rust', 'SQL', 'TypeScript', 'WebAssembly'] \n",
      "\n",
      "and corresponding length of words:\n",
      "\t[21, 2, 8, 10, 6, 4, 4, 3, 10, 11]\n"
     ]
    }
   ],
   "source": [
    "'''Ex: 2.1\n",
    "Write a Python program using function concept that maps list of words into a list of integers\n",
    "representing the lengths of the corresponding words .\n",
    "Hint: If a list [ ab,cde,erty] is passed on to the python function output should come as [2,3,4]\n",
    "Here 2,3 and 4 are the lengths of the words in the list.\n",
    "'''\n",
    "\n",
    "def fun_words_length(lst_of_words):\n",
    "    return [len(w) for w in lstwords]\n",
    "    \n",
    "                      \n",
    "lstwords=[\"Bash/Shell/PowerShell\",\"C#\",\"HTML/CSS\",\"JavaScript\",\"Python\",\n",
    "           \"Ruby\",\"Rust\",\"SQL\",\"TypeScript\",\"WebAssembly\"]\n",
    "\n",
    "print('List of words:\\n\\t{} \\n\\nand corresponding length of words:\\n\\t{}'.\n",
    "      format(lstwords,fun_words_length(lstwords)))"
   ]
  },
  {
   "cell_type": "code",
   "execution_count": 12,
   "metadata": {},
   "outputs": [
    {
     "name": "stdin",
     "output_type": "stream",
     "text": [
      "Please enter a character to check is vowel or not\n",
      " ert\n"
     ]
    },
    {
     "name": "stdout",
     "output_type": "stream",
     "text": [
      "The input character\\first character of input word \"e\" is vowel\n"
     ]
    }
   ],
   "source": [
    "'''\n",
    "Ex:2.2\n",
    "Write a Python function which takes a character (i.e. a string of length 1) and returns True if it is\n",
    "a vowel, False otherwise.\n",
    "'''\n",
    "vowels=['a','e','i','o','u']\n",
    "char=input('Please enter a character to check is vowel or not\\n')\n",
    "\n",
    "vo = any([True for v in vowels if v==char[0].lower()])\n",
    "if vo==True:\n",
    "    print('The input character\\\\first character of input word \"{}\" is vowel'.format(char[0]))\n",
    "else:\n",
    "     print('The input character\\\\first character of input word \"{}\" is not vowel'.format(char[0]))"
   ]
  },
  {
   "cell_type": "code",
   "execution_count": null,
   "metadata": {},
   "outputs": [],
   "source": []
  }
 ],
 "metadata": {
  "kernelspec": {
   "display_name": "Python 3",
   "language": "python",
   "name": "python3"
  },
  "language_info": {
   "codemirror_mode": {
    "name": "ipython",
    "version": 3
   },
   "file_extension": ".py",
   "mimetype": "text/x-python",
   "name": "python",
   "nbconvert_exporter": "python",
   "pygments_lexer": "ipython3",
   "version": "3.7.4"
  }
 },
 "nbformat": 4,
 "nbformat_minor": 4
}
