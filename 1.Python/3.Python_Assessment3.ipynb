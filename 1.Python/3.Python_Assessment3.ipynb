{
 "cells": [
  {
   "cell_type": "code",
   "execution_count": 4,
   "metadata": {},
   "outputs": [
    {
     "name": "stdout",
     "output_type": "stream",
     "text": [
      "Oops!!!. Your code is trying to do division by zero.\n",
      "Executing finally...\n"
     ]
    }
   ],
   "source": [
    "'''Task 1: \n",
    "1. Write a function to compute 5/0 and use try/except to catch the exceptions\n",
    "'''\n",
    "try:\n",
    "    x=5/0\n",
    "except ZeroDivisionError as e:\n",
    "    print('Oops!!!. Your code is trying to do division by zero.')\n",
    "except Exception as e:\n",
    "    print('Oops!!!. Something went wrong and the error is: {}'.format(e))\n",
    "else:\n",
    "    print('The x value is: {}'.format(x))\n",
    "finally:\n",
    "    print('Executing finally...')"
   ]
  },
  {
   "cell_type": "code",
   "execution_count": 93,
   "metadata": {},
   "outputs": [
    {
     "name": "stdout",
     "output_type": "stream",
     "text": [
      "The output is----->\n",
      "\n",
      "Americans play Baseball\n",
      "Americans play Cricket\n",
      "Americans watch Baseball\n",
      "Americans watch Cricket\n",
      "Indians play Baseball\n",
      "Indians play Cricket\n",
      "Indians watch Baseball\n",
      "Indians watch Cricket\n"
     ]
    }
   ],
   "source": [
    "'''Task 1:\n",
    "2.Implement a Python program to generate all sentences where subject is in [\"Americans\",\n",
    "  \"Indians\"] and verb is in [\"Play\", \"watch\"] and the object is in [\"Baseball\",\"cricket\"].\n",
    " \n",
    "  Hint: Subject,Verb and Object should be declared in the program as shown below.\n",
    "'''\n",
    "subjects=[\"Americans\",\"Indians\"]\n",
    "verbs=[\"play\",\"watch\"]\n",
    "objects=[\"Baseball\",\"Cricket\"]\n",
    "\n",
    "print('The output is----->\\n')\n",
    "sentences =[[[print((s +' '+ v +' '+ o )) for o in objects] for v in verbs ] for s in subjects]"
   ]
  },
  {
   "cell_type": "code",
   "execution_count": 5,
   "metadata": {},
   "outputs": [
    {
     "name": "stdout",
     "output_type": "stream",
     "text": [
      "The input array is: [1, 2, 3, 4, 5]\n",
      "Number of columns in output matrix is: 3\n",
      "\n",
      "The output is-->\n",
      "[1, 1, 1]\n",
      "[4, 2, 1]\n",
      "[9, 3, 1]\n",
      "[16, 4, 1]\n",
      "[25, 5, 1]\n"
     ]
    }
   ],
   "source": [
    "'''Task 2:\n",
    "1.Write a function so that the columns of the output matrix are powers of the input vector.\n",
    "The order of the powers is determined by the increasing boolean argument. Specifically, when\n",
    "increasing is False, the i-th output column is the input vector raised element-wise to the power\n",
    "of N - i - 1.\n",
    "HINT:Such a matrix with a geometric progression in each row is named for Alexandre-\n",
    "Theophile Vandermonde.\n",
    "'''\n",
    "def gen_vander_matrix(ipvector, n):\n",
    "    return [[x**(n-i-1) for i in range(n)] for x in ipvector]\n",
    "\n",
    "a=[1,2,3,4,5]\n",
    "n =3\n",
    "\n",
    "vander = gen_vander_matrix(a,n)\n",
    "\n",
    "\n",
    "print('The input array is: {}'.format(a))\n",
    "print('Number of columns in output matrix is: {}\\n'.format(n))\n",
    "print('The output is-->')\n",
    "for i in range(len(a)):\n",
    "    print(vander[i])"
   ]
  },
  {
   "cell_type": "code",
   "execution_count": 87,
   "metadata": {},
   "outputs": [],
   "source": [
    "#vander=[print([x**(n-i-1) for i in range(n)]) for x in a]"
   ]
  },
  {
   "cell_type": "code",
   "execution_count": null,
   "metadata": {},
   "outputs": [],
   "source": []
  }
 ],
 "metadata": {
  "kernelspec": {
   "display_name": "Python 3",
   "language": "python",
   "name": "python3"
  },
  "language_info": {
   "codemirror_mode": {
    "name": "ipython",
    "version": 3
   },
   "file_extension": ".py",
   "mimetype": "text/x-python",
   "name": "python",
   "nbconvert_exporter": "python",
   "pygments_lexer": "ipython3",
   "version": "3.7.4"
  }
 },
 "nbformat": 4,
 "nbformat_minor": 4
}
