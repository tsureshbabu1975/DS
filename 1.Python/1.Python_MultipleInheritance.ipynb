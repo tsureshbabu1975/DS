{
 "cells": [
  {
   "cell_type": "code",
   "execution_count": 1,
   "metadata": {},
   "outputs": [
    {
     "name": "stdout",
     "output_type": "stream",
     "text": [
      "Child surname is with father name: Sanjiv Thanickachalam\n",
      "Child surname is with mother name: Niranjan Lavanya\n"
     ]
    },
    {
     "data": {
      "text/plain": [
       "[__main__.Child2, __main__.Parent2, __main__.Parent1, object]"
      ]
     },
     "execution_count": 1,
     "metadata": {},
     "output_type": "execute_result"
    }
   ],
   "source": [
    "class Parent1():\n",
    "    def __init__(self,name,fathername):\n",
    "        self.name=name\n",
    "        self.fathername=fathername\n",
    "        \n",
    "    def parent_surname(self):\n",
    "        print('Child surname is with father name: {}'.format(self.name + ' ' +self.fathername))\n",
    "        \n",
    "        \n",
    "class Parent2():\n",
    "    def __init__(self,name,mothername):\n",
    "        self.name=name   \n",
    "        self.mothername=mothername\n",
    "    def parent_surname(self):\n",
    "        print('Child surname is with mother name: {}'.format(self.name +' '+ self.mothername))\n",
    "\n",
    "class Child1(Parent1,Parent2):\n",
    "    def __init__(self, name, fathername):\n",
    "        super(Child1,self).__init__(name,fathername)\n",
    "\n",
    "class Child2(Parent2,Parent1):\n",
    "    def __init__(self, name, mothername):\n",
    "        super(Child2,self).__init__(name,mothername)   \n",
    "        \n",
    "\n",
    "\n",
    "ch1 = Child1('Sanjiv','Thanickachalam')\n",
    "ch1.parent_surname()\n",
    "Child1.mro()\n",
    "\n",
    "ch2 = Child2('Niranjan','Lavanya')\n",
    "ch2.parent_surname()\n",
    "Child2.mro()\n"
   ]
  },
  {
   "cell_type": "code",
   "execution_count": null,
   "metadata": {},
   "outputs": [],
   "source": []
  }
 ],
 "metadata": {
  "kernelspec": {
   "display_name": "Python 3",
   "language": "python",
   "name": "python3"
  },
  "language_info": {
   "codemirror_mode": {
    "name": "ipython",
    "version": 3
   },
   "file_extension": ".py",
   "mimetype": "text/x-python",
   "name": "python",
   "nbconvert_exporter": "python",
   "pygments_lexer": "ipython3",
   "version": "3.7.4"
  }
 },
 "nbformat": 4,
 "nbformat_minor": 4
}
